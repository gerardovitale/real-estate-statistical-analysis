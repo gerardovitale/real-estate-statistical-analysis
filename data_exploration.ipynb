{
 "cells": [
  {
   "cell_type": "code",
   "execution_count": 3,
   "id": "ff6a81c5",
   "metadata": {},
   "outputs": [],
   "source": [
    "import pandas as pd\n",
    "import matplotlib.pyplot as plt\n",
    "import seaborn as sns\n",
    "\n",
    "import thinkstats2\n",
    "\n",
    "plt.style.use('seaborn')"
   ]
  },
  {
   "cell_type": "code",
   "execution_count": 4,
   "id": "cfddfaff",
   "metadata": {},
   "outputs": [],
   "source": [
    "df = pd.read_csv('../data/houses_Madrid.csv', index_col=[0])"
   ]
  },
  {
   "cell_type": "markdown",
   "id": "d70d1793",
   "metadata": {},
   "source": [
    "## Square Meter Built"
   ]
  },
  {
   "cell_type": "code",
   "execution_count": 14,
   "id": "70a0f59c",
   "metadata": {},
   "outputs": [
    {
     "data": {
      "text/plain": [
       "count    21616.000000\n",
       "mean       146.920892\n",
       "std        134.181865\n",
       "min         13.000000\n",
       "25%         70.000000\n",
       "50%        100.000000\n",
       "75%        162.000000\n",
       "max        999.000000\n",
       "Name: sq_mt_built, dtype: float64"
      ]
     },
     "execution_count": 14,
     "metadata": {},
     "output_type": "execute_result"
    }
   ],
   "source": [
    "sq_mt_built = df.loc[:,'sq_mt_built']\n",
    "sq_mt_built.describe()"
   ]
  },
  {
   "cell_type": "code",
   "execution_count": 13,
   "id": "c7b315b8",
   "metadata": {},
   "outputs": [
    {
     "data": {
      "text/plain": [
       "<Figure size 864x720 with 0 Axes>"
      ]
     },
     "metadata": {},
     "output_type": "display_data"
    },
    {
     "data": {
      "image/png": "[encoded data removed]",
      "text/plain": [
       "<Figure size 576x396 with 1 Axes>"
      ]
     },
     "metadata": {},
     "output_type": "display_data"
    }
   ],
   "source": [
    "fig = plt.figure(figsize=(12,10))\n",
    "plt.subplots(1,1)\n",
    "sns.histplot(sq_mt_built)\n",
    "plt.grid(False, axis='x')"
   ]
  },
  {
   "cell_type": "code",
   "execution_count": null,
   "id": "f96e8ead",
   "metadata": {},
   "outputs": [],
   "source": []
  }
 ],
 "metadata": {
  "kernelspec": {
   "display_name": "Python 3",
   "language": "python",
   "name": "python3"
  },
  "language_info": {
   "codemirror_mode": {
    "name": "ipython",
    "version": 3
   },
   "file_extension": ".py",
   "mimetype": "text/x-python",
   "name": "python",
   "nbconvert_exporter": "python",
   "pygments_lexer": "ipython3",
   "version": "3.8.3"
  }
 },
 "nbformat": 4,
 "nbformat_minor": 5
}
